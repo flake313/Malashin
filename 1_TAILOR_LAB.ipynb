{
  "nbformat": 4,
  "nbformat_minor": 0,
  "metadata": {
    "colab": {
      "provenance": []
    },
    "kernelspec": {
      "name": "python3",
      "display_name": "Python 3"
    },
    "language_info": {
      "name": "python"
    }
  },
  "cells": [
    {
      "cell_type": "code",
      "execution_count": 40,
      "metadata": {
        "colab": {
          "base_uri": "https://localhost:8080/"
        },
        "id": "iOlclFKTFRsh",
        "outputId": "63188e0d-2c05-4226-f604-cb554d26935b"
      },
      "outputs": [
        {
          "output_type": "stream",
          "name": "stdout",
          "text": [
            "Введите значение x в радианах: 50000000000\n",
            "Введите желаемую точность (погрешность), например, 0.000000001: 0.000001\n",
            "Результат вычисления функции 5 * e^(0.5 / (cos(50000000000.0) + 14)) с использованием рядов Тейлора: 5.1934429289025585\n"
          ]
        }
      ],
      "source": [
        "import math\n",
        "\n",
        "# Функция для вычисления косинуса через ряд Тейлора с использованием периодичности\n",
        "def taylor_cos(x, k):\n",
        "    x = x % (2 * math.pi)  # Приводим x к диапазону от 0 до 2*pi\n",
        "    q, s, n = 1, 0, 0\n",
        "    while abs(q) > k:\n",
        "        s += q\n",
        "        n += 1\n",
        "        q *= (-1) * (x * x) / ((2 * n - 1) * (2 * n))\n",
        "    return s\n",
        "\n",
        "# Функция для вычисления экспоненты через ряд Тейлора\n",
        "def taylor_exp(x, k):\n",
        "    q, s, n = 1, 0, 0\n",
        "    while abs(q) > k:\n",
        "        s += q\n",
        "        n += 1\n",
        "        q *= x / n\n",
        "    return s\n",
        "\n",
        "# Функция для вычисления 5 * e^(0.5 / (cos(x) + 14)) через ряды Тейлора\n",
        "def complex_function_taylor(x_rad, k):\n",
        "    try:\n",
        "        # Вычисление косинуса от значения x с использованием ряда Тейлора\n",
        "        cos_x = taylor_cos(x_rad, k)\n",
        "\n",
        "        # Вычисление значения экспоненты\n",
        "        exponent = 0.5 / (cos_x + 14)\n",
        "        exp_value = taylor_exp(exponent, k)\n",
        "\n",
        "        # Умножение на 5\n",
        "        result = 5 * exp_value\n",
        "\n",
        "        return result\n",
        "    except ZeroDivisionError:\n",
        "        return \"Ошибочка.\"\n",
        "\n",
        "# Ввод значения x в радианах и точности k\n",
        "x_rad = float(input(\"Введите значение x в радианах: \"))\n",
        "k = float(input(\"Введите желаемую точность (погрешность), например, 0.000000001: \"))\n",
        "\n",
        "# Вычисление результата\n",
        "result = complex_function_taylor(x_rad, k)\n",
        "\n",
        "# Вывод результата с точностью до 16 знаков после запятой\n",
        "print(f\"Результат вычисления функции 5 * e^(0.5 / (cos({x_rad}) + 14)) с использованием рядов Тейлора: {result:.16f}\")\n"
      ]
    },
    {
      "cell_type": "code",
      "source": [],
      "metadata": {
        "id": "2Q71mXZSFbdx"
      },
      "execution_count": null,
      "outputs": []
    }
  ]
}