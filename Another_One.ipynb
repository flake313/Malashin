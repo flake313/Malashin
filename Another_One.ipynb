{
  "nbformat": 4,
  "nbformat_minor": 0,
  "metadata": {
    "colab": {
      "provenance": [],
      "authorship_tag": "ABX9TyMRGtF5Ro1kHmakXUvKEG3O",
      "include_colab_link": true
    },
    "kernelspec": {
      "name": "python3",
      "display_name": "Python 3"
    },
    "language_info": {
      "name": "python"
    }
  },
  "cells": [
    {
      "cell_type": "markdown",
      "metadata": {
        "id": "view-in-github",
        "colab_type": "text"
      },
      "source": [
        "<a href=\"https://colab.research.google.com/github/flake313/Malashin/blob/main/Another_One.ipynb\" target=\"_parent\"><img src=\"https://colab.research.google.com/assets/colab-badge.svg\" alt=\"Open In Colab\"/></a>"
      ]
    },
    {
      "cell_type": "code",
      "source": [
        "!pip install pymupdf chardet"
      ],
      "metadata": {
        "colab": {
          "base_uri": "https://localhost:8080/"
        },
        "id": "0jOLlSBPyQgp",
        "outputId": "b02e6ee6-721c-44c0-bf74-c5e707fcaac9"
      },
      "execution_count": 20,
      "outputs": [
        {
          "output_type": "stream",
          "name": "stdout",
          "text": [
            "Requirement already satisfied: pymupdf in /usr/local/lib/python3.11/dist-packages (1.25.2)\n",
            "Requirement already satisfied: chardet in /usr/local/lib/python3.11/dist-packages (5.2.0)\n",
            "Collecting reportlab\n",
            "  Downloading reportlab-4.3.0-py3-none-any.whl.metadata (1.5 kB)\n",
            "Requirement already satisfied: pillow>=9.0.0 in /usr/local/lib/python3.11/dist-packages (from reportlab) (11.1.0)\n",
            "Requirement already satisfied: chardet in /usr/local/lib/python3.11/dist-packages (from reportlab) (5.2.0)\n",
            "Downloading reportlab-4.3.0-py3-none-any.whl (1.9 MB)\n",
            "\u001b[2K   \u001b[90m━━━━━━━━━━━━━━━━━━━━━━━━━━━━━━━━━━━━━━━━\u001b[0m \u001b[32m1.9/1.9 MB\u001b[0m \u001b[31m18.7 MB/s\u001b[0m eta \u001b[36m0:00:00\u001b[0m\n",
            "\u001b[?25hInstalling collected packages: reportlab\n",
            "Successfully installed reportlab-4.3.0\n"
          ]
        }
      ]
    },
    {
      "cell_type": "markdown",
      "source": [
        "**Для проверки**"
      ],
      "metadata": {
        "id": "QWZ7DNt90CwW"
      }
    },
    {
      "cell_type": "code",
      "source": [
        "def detect_encoding_manually(byte_data):\n",
        "    if byte_data.startswith(b'\\xef\\xbb\\xbf'):\n",
        "        return 'UTF-8 с BOM'\n",
        "    if byte_data.startswith(b'\\xff\\xfe'):\n",
        "        return 'UTF-16 LE'\n",
        "    if byte_data.startswith(b'\\xfe\\xff'):\n",
        "        return 'UTF-16 BE'\n",
        "\n",
        "    # Проверка на UTF-8 без BOM\n",
        "    try:\n",
        "        byte_data.decode('utf-8')\n",
        "        return 'UTF-8 без BOM'\n",
        "    except UnicodeDecodeError:\n",
        "        pass\n",
        "\n",
        "    # Проверка на ASCII\n",
        "    if all(byte <= 0x7F for byte in byte_data):\n",
        "        return 'ASCII'\n",
        "\n",
        "    # Проверка на Windows-1251\n",
        "    try:\n",
        "        byte_data.decode('windows-1251')\n",
        "        return 'Windows-1251'\n",
        "    except UnicodeDecodeError:\n",
        "        pass\n",
        "\n",
        "    # Проверка на Windows-1252\n",
        "    try:\n",
        "        byte_data.decode('windows-1252')\n",
        "        return 'Windows-1252'\n",
        "    except UnicodeDecodeError:\n",
        "        pass\n",
        "\n",
        "    return 'Неизвестная кодировка'\n",
        "\n",
        "# Пример использования\n",
        "byte_data = b'\\xef\\xbb\\xbfHello, World!'  # UTF-8 с BOM\n",
        "print(detect_encoding_manually(byte_data))  # Выведет: UTF-8 с BOM\n",
        "\n",
        "byte_data = b'\\xff\\xfefile content'  # UTF-16 LE\n",
        "print(detect_encoding_manually(byte_data))  # Выведет: UTF-16 LE\n",
        "\n",
        "byte_data = b'Hello, World!'  # ASCII\n",
        "print(detect_encoding_manually(byte_data))  # Выведет: ASCII\n",
        "\n",
        "byte_data = b'\\xd0\\x9f\\xd0\\xb0\\xd1\\x80\\xd0\\xb0\\xd0\\xbc\\xd0\\xb5\\xd1\\x82\\xd1\\x80'  # Windows-1251\n",
        "print(detect_encoding_manually(byte_data))  # Выведет: Windows-1251"
      ],
      "metadata": {
        "colab": {
          "base_uri": "https://localhost:8080/"
        },
        "id": "KJLId8Y1z7Nv",
        "outputId": "3a53e6e5-5413-4191-a59b-93609b0c814d"
      },
      "execution_count": 22,
      "outputs": [
        {
          "output_type": "stream",
          "name": "stdout",
          "text": [
            "UTF-8 с BOM\n",
            "UTF-16 LE\n",
            "UTF-8 без BOM\n",
            "UTF-8 без BOM\n"
          ]
        }
      ]
    },
    {
      "cell_type": "markdown",
      "source": [
        "**Сама проверка**"
      ],
      "metadata": {
        "id": "mC_Dt62z0FpC"
      }
    },
    {
      "cell_type": "code",
      "source": [
        "import os\n",
        "\n",
        "def test_encoding_detection():\n",
        "    base_dir = ''\n",
        "    test_files = {\n",
        "        #os.path.join(base_dir, \"WINDOWS1251_endPDF (1).pdf\"): \"UTF-8 с BOM\",\n",
        "        #os.path.join(base_dir, \"UTF_RusInLaTeX_1.txt\"): \"UTF-8 без BOM\",\n",
        "        #os.path.join(base_dir, \"_UTF-16LE_RusInLaTeX_1.txt\"): \"UTF-16 LE\",\n",
        "        #os.path.join(base_dir, \"UTF_8 with BOM_RusInLaTeX_1.txt\"): \"UTF-16 BE\",\n",
        "        #os.path.join(base_dir, \"converted.pdf\"): \"Windows-1251\",\n",
        "        #os.path.join(base_dir, \"endPDF_Courier (1).pdf\"): \"Windows-1252\",\n",
        "        os.path.join(base_dir, \"endPDF_Courier (1).pdf\"): \"Windows-1251\",\n",
        "        os.path.join(base_dir, \"converted.pdf\"): \"UTF-8 без BOM\",\n",
        "    }\n",
        "\n",
        "    for filename, expected in test_files.items():\n",
        "        with open(filename, 'rb') as f:\n",
        "            byte_data = f.read()\n",
        "            detected = detect_encoding_manually(byte_data)\n",
        "            print(f\"Файл: {filename}, Ожидаемая кодировка: {expected}, Обнаруженная кодировка: {detected}\")\n",
        "\n",
        "if __name__ == \"__main__\":\n",
        "    test_encoding_detection()"
      ],
      "metadata": {
        "colab": {
          "base_uri": "https://localhost:8080/"
        },
        "id": "MbZK0TT2zbvx",
        "outputId": "025926ff-bebd-4f10-d956-06335eda7577"
      },
      "execution_count": 25,
      "outputs": [
        {
          "output_type": "stream",
          "name": "stdout",
          "text": [
            "Файл: endPDF_Courier (1).pdf, Ожидаемая кодировка: Windows-1251, Обнаруженная кодировка: Windows-1251\n",
            "Файл: converted.pdf, Ожидаемая кодировка: UTF-8 без BOM, Обнаруженная кодировка: UTF-8 без BOM\n"
          ]
        }
      ]
    },
    {
      "cell_type": "markdown",
      "source": [
        "**Перекодировка**"
      ],
      "metadata": {
        "id": "kc-nKJ4FzBlN"
      }
    },
    {
      "cell_type": "code",
      "source": [
        "import fitz  # PyMuPDF\n",
        "import chardet\n",
        "import io\n",
        "\n",
        "def convert_text_from_windows1251_to_utf8(text: bytes) -> str:\n",
        "    # Проверяем текущую кодировку текста\n",
        "    detected_encoding = chardet.detect(text)['encoding']\n",
        "    if detected_encoding == 'windows-1251':\n",
        "        return text.decode('windows-1251').encode('utf-8').decode('utf-8')\n",
        "    return text.decode('utf-8')\n",
        "\n",
        "def convert_pdf(input_pdf_path: str, output_pdf_path: str):\n",
        "    # Открываем исходный PDF файл\n",
        "    pdf_document = fitz.open(input_pdf_path)\n",
        "\n",
        "    for page_num in range(len(pdf_document)):\n",
        "        page = pdf_document.load_page(page_num)\n",
        "        text_instances = page.get_text(\"dict\")[\"blocks\"]\n",
        "\n",
        "        for block in text_instances:\n",
        "            if block[\"type\"] == 0:  # 0 - текстовый блок\n",
        "                for line in block[\"lines\"]:\n",
        "                    for span in line[\"spans\"]:\n",
        "                        # Конвертируем текст из Windows-1251 в UTF-8\n",
        "                        span[\"text\"] = convert_text_from_windows1251_to_utf8(span[\"text\"].encode('utf-8'))\n",
        "\n",
        "    # Сохраняем измененный PDF файл\n",
        "    pdf_document.save(output_pdf_path)\n",
        "    pdf_document.close()\n",
        "\n",
        "if __name__ == \"__main__\":\n",
        "    input_pdf_path = \"endPDF_Courier (1).pdf\"  # Путь к исходному PDF файлу\n",
        "    output_pdf_path = \"converted.pdf\"  # Путь к конвертированному PDF файлу\n",
        "\n",
        "    convert_pdf(input_pdf_path, output_pdf_path)\n",
        "    print(f\"PDF файл успешно конвертирован и сохранен как {output_pdf_path}\")"
      ],
      "metadata": {
        "colab": {
          "base_uri": "https://localhost:8080/"
        },
        "id": "q0uDfK-2ylB_",
        "outputId": "bbe4b34e-b150-4a3a-a045-13c6645eb4ef"
      },
      "execution_count": 17,
      "outputs": [
        {
          "output_type": "stream",
          "name": "stdout",
          "text": [
            "PDF файл успешно конвертирован и сохранен как converted.pdf\n"
          ]
        }
      ]
    }
  ]
}